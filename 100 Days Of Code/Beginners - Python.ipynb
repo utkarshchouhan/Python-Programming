{
 "cells": [
  {
   "cell_type": "code",
   "execution_count": 1,
   "id": "a83c148a-2fd5-4784-938a-3863980da57c",
   "metadata": {},
   "outputs": [
    {
     "name": "stdout",
     "output_type": "stream",
     "text": [
      "Welcome to Basic Python Notebook\n"
     ]
    }
   ],
   "source": [
    "# Environment Check\n",
    "print(\"Welcome to Basic Python Notebook\")"
   ]
  },
  {
   "cell_type": "code",
   "execution_count": null,
   "id": "343cc6c8-1290-4c23-bbd1-996f8434d663",
   "metadata": {},
   "outputs": [],
   "source": []
  }
 ],
 "metadata": {
  "kernelspec": {
   "display_name": "Python 3 (ipykernel)",
   "language": "python",
   "name": "python3"
  },
  "language_info": {
   "codemirror_mode": {
    "name": "ipython",
    "version": 3
   },
   "file_extension": ".py",
   "mimetype": "text/x-python",
   "name": "python",
   "nbconvert_exporter": "python",
   "pygments_lexer": "ipython3",
   "version": "3.11.4"
  }
 },
 "nbformat": 4,
 "nbformat_minor": 5
}
